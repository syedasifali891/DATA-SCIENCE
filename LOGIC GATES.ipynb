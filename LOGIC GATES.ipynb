{
 "cells": [
  {
   "cell_type": "code",
   "execution_count": 1,
   "metadata": {},
   "outputs": [
    {
     "name": "stdout",
     "output_type": "stream",
     "text": [
      "******************************\n",
      "WHEN A=1 AND B=1 RESULT IS  1\n",
      "WHEN A=1 AND B=0 RESULT IS  0\n",
      "WHEN A=0 AND B=1 RESULT IS  0\n",
      "WHEN A=0 AND B=0 RESULT IS  0\n",
      "******************************\n"
     ]
    }
   ],
   "source": [
    "def AND (a,b):\n",
    "    if a==1 and b==1:\n",
    "        return 1\n",
    "    else:\n",
    "        return 0\n",
    "print(\"******************************\")\n",
    "print(\"WHEN A=1 AND B=1 RESULT IS \",AND(1,1))\n",
    "print(\"WHEN A=1 AND B=0 RESULT IS \",AND(1,0))\n",
    "print(\"WHEN A=0 AND B=1 RESULT IS \",AND(0,1))\n",
    "print(\"WHEN A=0 AND B=0 RESULT IS \",AND(0,0))\n",
    "print(\"******************************\")"
   ]
  },
  {
   "cell_type": "code",
   "execution_count": 2,
   "metadata": {},
   "outputs": [
    {
     "name": "stdout",
     "output_type": "stream",
     "text": [
      "******************************\n",
      "WHEN A=1 AND B=1 RESULT IS  1\n",
      "WHEN A=1 AND B=0 RESULT IS  1\n",
      "WHEN A=0 AND B=1 RESULT IS  1\n",
      "WHEN A=0 AND B=0 RESULT IS  0\n",
      "******************************\n"
     ]
    }
   ],
   "source": [
    "def OR (a,b):\n",
    "    if a==0 and b==0:\n",
    "        return 0\n",
    "    else:\n",
    "        return 1\n",
    "print(\"******************************\")\n",
    "print(\"WHEN A=1 AND B=1 RESULT IS \",OR(1,1))\n",
    "print(\"WHEN A=1 AND B=0 RESULT IS \",OR(1,0))\n",
    "print(\"WHEN A=0 AND B=1 RESULT IS \",OR(0,1))\n",
    "print(\"WHEN A=0 AND B=0 RESULT IS \",OR(0,0))\n",
    "print(\"******************************\")"
   ]
  },
  {
   "cell_type": "code",
   "execution_count": 3,
   "metadata": {},
   "outputs": [
    {
     "name": "stdout",
     "output_type": "stream",
     "text": [
      "******************************\n",
      "WHEN A=1 AND B=1 RESULT IS  0\n",
      "WHEN A=1 AND B=0 RESULT IS  1\n",
      "WHEN A=0 AND B=1 RESULT IS  1\n",
      "WHEN A=0 AND B=0 RESULT IS  1\n",
      "******************************\n"
     ]
    }
   ],
   "source": [
    "def NAND (a,b):\n",
    "    if a==1 and b==1:\n",
    "        return 0\n",
    "    else:\n",
    "        return 1\n",
    "print(\"******************************\")\n",
    "print(\"WHEN A=1 AND B=1 RESULT IS \",NAND(1,1))\n",
    "print(\"WHEN A=1 AND B=0 RESULT IS \",NAND(1,0))\n",
    "print(\"WHEN A=0 AND B=1 RESULT IS \",NAND(0,1))\n",
    "print(\"WHEN A=0 AND B=0 RESULT IS \",NAND(0,0))\n",
    "print(\"******************************\")"
   ]
  },
  {
   "cell_type": "code",
   "execution_count": 4,
   "metadata": {},
   "outputs": [
    {
     "name": "stdout",
     "output_type": "stream",
     "text": [
      "******************************\n",
      "WHEN A=1 AND B=1 RESULT IS  0\n",
      "WHEN A=1 AND B=0 RESULT IS  1\n",
      "WHEN A=0 AND B=1 RESULT IS  1\n",
      "WHEN A=0 AND B=0 RESULT IS  0\n",
      "******************************\n"
     ]
    }
   ],
   "source": [
    "def XOR (a,b):\n",
    "    if a!=b:\n",
    "        return 1\n",
    "    else:\n",
    "        return 0\n",
    "print(\"******************************\")\n",
    "print(\"WHEN A=1 AND B=1 RESULT IS \",XOR(1,1))\n",
    "print(\"WHEN A=1 AND B=0 RESULT IS \",XOR(1,0))\n",
    "print(\"WHEN A=0 AND B=1 RESULT IS \",XOR(0,1))\n",
    "print(\"WHEN A=0 AND B=0 RESULT IS \",XOR(0,0))\n",
    "print(\"******************************\")"
   ]
  },
  {
   "cell_type": "code",
   "execution_count": 5,
   "metadata": {},
   "outputs": [
    {
     "name": "stdout",
     "output_type": "stream",
     "text": [
      "******************************\n",
      "WHEN X=1 RESULT IS  0\n",
      "WHEN X=0 RESULT IS  1\n",
      "******************************\n"
     ]
    }
   ],
   "source": [
    "def NOT(X):\n",
    "    if(X==0):\n",
    "        return 1\n",
    "    else:\n",
    "        return 0\n",
    "print(\"******************************\")\n",
    "print(\"WHEN X=1 RESULT IS \",NOT(1))\n",
    "print(\"WHEN X=0 RESULT IS \",NOT(0))\n",
    "print(\"******************************\")"
   ]
  },
  {
   "cell_type": "code",
   "execution_count": 6,
   "metadata": {},
   "outputs": [
    {
     "name": "stdout",
     "output_type": "stream",
     "text": [
      "******************************\n",
      "WHEN A=1 AND B=1 RESULT IS  0\n",
      "WHEN A=1 AND B=0 RESULT IS  0\n",
      "WHEN A=0 AND B=1 RESULT IS  0\n",
      "WHEN A=0 AND B=0 RESULT IS  1\n",
      "******************************\n"
     ]
    }
   ],
   "source": [
    "def NOR(a,b):\n",
    "    if a==0 and b==0:\n",
    "        return 1\n",
    "    else:\n",
    "        return 0\n",
    "print(\"******************************\")\n",
    "print(\"WHEN A=1 AND B=1 RESULT IS \",NOR(1,1))\n",
    "print(\"WHEN A=1 AND B=0 RESULT IS \",NOR(1,0))\n",
    "print(\"WHEN A=0 AND B=1 RESULT IS \",NOR(0,1))\n",
    "print(\"WHEN A=0 AND B=0 RESULT IS \",NOR(0,0))\n",
    "print(\"******************************\")"
   ]
  },
  {
   "cell_type": "code",
   "execution_count": 7,
   "metadata": {},
   "outputs": [
    {
     "name": "stdout",
     "output_type": "stream",
     "text": [
      "******************************\n",
      "WHEN A=1 AND B=1 RESULT IS  1\n",
      "WHEN A=1 AND B=0 RESULT IS  0\n",
      "WHEN A=0 AND B=1 RESULT IS  0\n",
      "WHEN A=0 AND B=0 RESULT IS  1\n",
      "******************************\n"
     ]
    }
   ],
   "source": [
    "def XNOR(a,b):\n",
    "    if a!=b:\n",
    "        return 0\n",
    "    else:\n",
    "        return 1\n",
    "print(\"******************************\")\n",
    "print(\"WHEN A=1 AND B=1 RESULT IS \",XNOR(1,1))\n",
    "print(\"WHEN A=1 AND B=0 RESULT IS \",XNOR(1,0))\n",
    "print(\"WHEN A=0 AND B=1 RESULT IS \",XNOR(0,1))\n",
    "print(\"WHEN A=0 AND B=0 RESULT IS \",XNOR(0,0))\n",
    "print(\"******************************\")"
   ]
  },
  {
   "cell_type": "code",
   "execution_count": null,
   "metadata": {},
   "outputs": [],
   "source": []
  }
 ],
 "metadata": {
  "kernelspec": {
   "display_name": "Python 3",
   "language": "python",
   "name": "python3"
  },
  "language_info": {
   "codemirror_mode": {
    "name": "ipython",
    "version": 3
   },
   "file_extension": ".py",
   "mimetype": "text/x-python",
   "name": "python",
   "nbconvert_exporter": "python",
   "pygments_lexer": "ipython3",
   "version": "3.7.3"
  }
 },
 "nbformat": 4,
 "nbformat_minor": 2
}
