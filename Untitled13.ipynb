{
 "cells": [
  {
   "cell_type": "code",
   "execution_count": 3,
   "metadata": {},
   "outputs": [
    {
     "name": "stdout",
     "output_type": "stream",
     "text": [
      "enter x11\n",
      "enter x20\n",
      "enter w112\n",
      "enter w212\n",
      "Yin1 is 3.0\n",
      "y is  0.04742596434225891\n",
      "w11new is  2.047425964342259\n",
      "w21new is  2.0\n",
      "value of y in second iteration is:  0.04532882083449278\n"
     ]
    }
   ],
   "source": [
    "# Provide inputs and Weights\n",
    "x1=int(input(\"enter x1\"))\n",
    "x2=int(input(\"enter x2\"))\n",
    "w11=float(input(\"enter w11\"))\n",
    "w21=float(input(\"enter w21\"))\n",
    "\n",
    "# Weighted sum (Assumed bias as 1)\n",
    "yin1=(1+(x1*w11+x2*w21))\n",
    "print(\"Yin1 is\", yin1)\n",
    "\n",
    "# Activation Function (Sigmoid function: 1/(1+ey))\n",
    "y=1/(1+(2.71828**yin1))\n",
    "\n",
    "#initial output\n",
    "print(\"y is \", y)\n",
    "\n",
    "#Delta weight\n",
    "wi1=y*x1\n",
    "wi2=y*x2\n",
    "\n",
    "#wnew=wold+wdelta\n",
    "w11new=w11+wi1\n",
    "w21new=w21+wi2\n",
    "\n",
    "print(\"w11new is \", w11new)\n",
    "print(\"w21new is \", w21new)\n",
    "\n",
    "# Weighted sum (Assumed bias as 1)\n",
    "yin1new=(1+(x1*w11new+x2*w21new))\n",
    "# Activation Function (Sigmoid function: 1/(1+ey))\n",
    "ynew=1/(1+(2.71828**yin1new))\n",
    "print(\"value of y in second iteration is: \", ynew)\n"
   ]
  },
  {
   "cell_type": "code",
   "execution_count": 5,
   "metadata": {},
   "outputs": [
    {
     "name": "stdout",
     "output_type": "stream",
     "text": [
      "enter x11\n",
      "enter x22\n",
      "enter w111\n",
      "enter w212\n",
      "enter bias.9\n",
      "Yin1 is 6.0\n",
      "y is  0.002473244653942199\n",
      "w11new is  1.0024732446539422\n",
      "w21new is  2.0049464893078843\n",
      "value of y in second iteration is:  0.0026984860651523813\n"
     ]
    }
   ],
   "source": [
    "# Provide inputs and Weights\n",
    "x1=int(input(\"enter x1\"))\n",
    "x2=int(input(\"enter x2\"))\n",
    "w11=float(input(\"enter w11\"))\n",
    "w21=float(input(\"enter w21\"))\n",
    "w0=float(input(\"enter bias\"))\n",
    "# Weighted sum (Assumed bias as 1)\n",
    "yin1=(1+(x1*w11+x2*w21))\n",
    "print(\"Yin1 is\", yin1)\n",
    "\n",
    "# Activation Function (Sigmoid function: 1/(1+ey))\n",
    "y=1/(w0+(2.71828**yin1))\n",
    "\n",
    "#initial output\n",
    "print(\"y is \", y)\n",
    "\n",
    "#Delta weight\n",
    "wi1=y*x1\n",
    "wi2=y*x2\n",
    "\n",
    "#wnew=wold+wdelta\n",
    "w11new=w11+wi1\n",
    "w21new=w21+wi2\n",
    "\n",
    "print(\"w11new is \", w11new)\n",
    "print(\"w21new is \", w21new)\n",
    "\n",
    "# Weighted sum (Assumed bias as 1)\n",
    "yin1new=(w0+(x1*w11new+x2*w21new))\n",
    "# Activation Function (Sigmoid function: 1/(1+ey))\n",
    "ynew=1/(1+(2.71828**yin1new))\n",
    "print(\"value of y in second iteration is: \", ynew)\n"
   ]
  },
  {
   "cell_type": "code",
   "execution_count": 6,
   "metadata": {},
   "outputs": [
    {
     "name": "stdout",
     "output_type": "stream",
     "text": [
      "enter x11\n",
      "enter x22\n",
      "enter w111\n",
      "enter w212\n",
      "enter bias.9\n",
      "Yin1 is 6.0\n",
      "y is  1.108059316081444\n",
      "w11new is  2.108059316081444\n",
      "w21new is  4.216118632162888\n",
      "value of y in second iteration is:  0.9999892467189758\n"
     ]
    }
   ],
   "source": [
    "# Provide inputs and Weights\n",
    "x1=int(input(\"enter x1\"))\n",
    "x2=int(input(\"enter x2\"))\n",
    "w11=float(input(\"enter w11\"))\n",
    "w21=float(input(\"enter w21\"))\n",
    "w0=float(input(\"enter bias\"))\n",
    "# Weighted sum (Assumed bias as 1)\n",
    "yin1=(1+(x1*w11+x2*w21))\n",
    "print(\"Yin1 is\", yin1)\n",
    "\n",
    "# Activation Function (Sigmoid function: 1/(1+ey))\n",
    "y=1/(w0+(2.71828**(-yin1)))\n",
    "\n",
    "#initial output\n",
    "print(\"y is \", y)\n",
    "\n",
    "#Delta weight\n",
    "wi1=y*x1\n",
    "wi2=y*x2\n",
    "\n",
    "#wnew=wold+wdelta\n",
    "w11new=w11+wi1\n",
    "w21new=w21+wi2\n",
    "\n",
    "print(\"w11new is \", w11new)\n",
    "print(\"w21new is \", w21new)\n",
    "\n",
    "# Weighted sum (Assumed bias as 1)\n",
    "yin1new=(w0+(x1*w11new+x2*w21new))\n",
    "# Activation Function (Sigmoid function: 1/(1+ey))\n",
    "ynew=1/(1+(2.71828**(-yin1new)))\n",
    "print(\"value of y in second iteration is: \", ynew)\n"
   ]
  },
  {
   "cell_type": "code",
   "execution_count": null,
   "metadata": {},
   "outputs": [],
   "source": []
  }
 ],
 "metadata": {
  "kernelspec": {
   "display_name": "Python 3",
   "language": "python",
   "name": "python3"
  },
  "language_info": {
   "codemirror_mode": {
    "name": "ipython",
    "version": 3
   },
   "file_extension": ".py",
   "mimetype": "text/x-python",
   "name": "python",
   "nbconvert_exporter": "python",
   "pygments_lexer": "ipython3",
   "version": "3.7.3"
  }
 },
 "nbformat": 4,
 "nbformat_minor": 2
}
